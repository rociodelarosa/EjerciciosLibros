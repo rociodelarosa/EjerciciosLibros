{
 "cells": [
  {
   "cell_type": "markdown",
   "source": "# Aprende a pensar como un programador con Python",
   "metadata": {
    "cell_id": "ea79b120-9964-44e5-a109-6abc38bfcb51",
    "tags": [],
    "is_collapsed": false,
    "deepnote_cell_type": "text-cell-h1"
   }
  },
  {
   "cell_type": "markdown",
   "source": "## Capítulo 5: Funciones productivas",
   "metadata": {
    "cell_id": "252c1c16-f8e0-4203-b235-488d7c1be05a",
    "tags": [],
    "is_collapsed": false,
    "deepnote_cell_type": "text-cell-h2"
   }
  },
  {
   "cell_type": "markdown",
   "source": "### Página 56",
   "metadata": {
    "cell_id": "430c60cf-1057-4439-9889-2334e19c4f12",
    "tags": [],
    "is_collapsed": false,
    "deepnote_cell_type": "text-cell-h3"
   }
  },
  {
   "cell_type": "code",
   "metadata": {
    "tags": [],
    "cell_id": "318b4f9d-70cb-4c52-aea0-e839f6dc6347",
    "deepnote_to_be_reexecuted": false,
    "source_hash": "f235ceb7",
    "execution_start": 1645045718805,
    "execution_millis": 7,
    "deepnote_cell_type": "code"
   },
   "source": "def factorial(n):\n    if n == 0:\n        return 1\n    else: \n        return n*factorial(n-1)",
   "execution_count": 1,
   "outputs": []
  },
  {
   "cell_type": "code",
   "metadata": {
    "cell_id": "98595072-a85a-46b2-b61b-c2bfacf62052",
    "tags": [],
    "deepnote_to_be_reexecuted": false,
    "source_hash": "95494907",
    "execution_start": 1645045775599,
    "execution_millis": 6,
    "deepnote_output_heights": [
     21.171875
    ],
    "deepnote_cell_type": "code"
   },
   "source": "factorial(3)",
   "execution_count": 2,
   "outputs": [
    {
     "output_type": "execute_result",
     "execution_count": 2,
     "data": {
      "text/plain": "6"
     },
     "metadata": {}
    }
   ]
  },
  {
   "cell_type": "markdown",
   "source": "Acortar factorial()",
   "metadata": {
    "cell_id": "7f6eb835-a4e7-42b7-9fb3-cff681b118de",
    "tags": [],
    "is_collapsed": false,
    "deepnote_cell_type": "text-cell-p"
   }
  },
  {
   "cell_type": "code",
   "metadata": {
    "cell_id": "a2a465c9-5c1a-49f3-9898-de74b8f1d33b",
    "tags": [],
    "deepnote_to_be_reexecuted": false,
    "source_hash": "6fcd801c",
    "execution_start": 1645046163089,
    "execution_millis": 1,
    "deepnote_cell_type": "code"
   },
   "source": "def factorial_corto(n):\n    return 1 if (n==1 or n==0) else n * factorial(n - 1)",
   "execution_count": 3,
   "outputs": []
  },
  {
   "cell_type": "code",
   "metadata": {
    "cell_id": "eedf21be-d334-4962-b229-146a04019a45",
    "tags": [],
    "deepnote_to_be_reexecuted": false,
    "source_hash": "f9fd2582",
    "execution_start": 1645046170652,
    "execution_millis": 21,
    "deepnote_output_heights": [
     21.171875
    ],
    "deepnote_cell_type": "code"
   },
   "source": "factorial_corto(3)",
   "execution_count": 4,
   "outputs": [
    {
     "output_type": "execute_result",
     "execution_count": 4,
     "data": {
      "text/plain": "6"
     },
     "metadata": {}
    }
   ]
  },
  {
   "cell_type": "markdown",
   "source": "## Capítulo 7: Cadenas",
   "metadata": {
    "cell_id": "2d86e934-239d-4583-802c-dbc6c0d4cc10",
    "tags": [],
    "is_collapsed": false,
    "deepnote_cell_type": "text-cell-h2"
   }
  },
  {
   "cell_type": "markdown",
   "source": "### Página 82",
   "metadata": {
    "cell_id": "efc2e08a-144a-4e56-9a19-b13ce3faa39f",
    "tags": [],
    "is_collapsed": false,
    "deepnote_cell_type": "text-cell-h3"
   }
  },
  {
   "cell_type": "code",
   "metadata": {
    "cell_id": "1873a8c9-c780-4189-8dab-b4e7fe4f8362",
    "tags": [],
    "deepnote_to_be_reexecuted": false,
    "source_hash": "a7c3ca75",
    "execution_start": 1645046676028,
    "execution_millis": 0,
    "deepnote_cell_type": "code"
   },
   "source": "def esMinuscula_1(c):\n    return find(string.lowercase, c) != -1",
   "execution_count": 5,
   "outputs": []
  },
  {
   "cell_type": "code",
   "metadata": {
    "cell_id": "b5a1a7be-3690-4215-9c0f-980a0cfc5fc5",
    "tags": [],
    "deepnote_to_be_reexecuted": false,
    "source_hash": "f904fe6f",
    "execution_start": 1645046677815,
    "execution_millis": 3,
    "deepnote_cell_type": "code"
   },
   "source": "def esMinuscula_2(c):\n    return c in string.lowercase",
   "execution_count": 6,
   "outputs": []
  },
  {
   "cell_type": "code",
   "metadata": {
    "cell_id": "31e39e04-aa8b-488f-a064-9be0befe68a2",
    "tags": [],
    "deepnote_to_be_reexecuted": false,
    "source_hash": "55470482",
    "execution_start": 1645046679360,
    "execution_millis": 1,
    "deepnote_cell_type": "code"
   },
   "source": "def esMinuscula_3(c):\n    return 'a' <= c <= 'z'",
   "execution_count": 7,
   "outputs": []
  },
  {
   "cell_type": "markdown",
   "source": "Creo que podría ser que la 3era opción sea la más rápida, debe comparar que c esté entre a y z, en cambio opción 1 y 2 debe buscar dentro de la opción string.lowecase",
   "metadata": {
    "cell_id": "23d47b17-623a-456d-9c56-bf0a02a513a3",
    "tags": [],
    "is_collapsed": false,
    "deepnote_cell_type": "text-cell-p"
   }
  },
  {
   "cell_type": "markdown",
   "source": "## Capítulo 8: Listas",
   "metadata": {
    "cell_id": "906975ff-f0b2-4e36-81b3-5ff464920051",
    "tags": [],
    "is_collapsed": false,
    "deepnote_cell_type": "text-cell-h2"
   }
  },
  {
   "cell_type": "markdown",
   "source": "### Página 88",
   "metadata": {
    "cell_id": "c25331e0-f6a5-4896-b72d-3b68bbdcaf17",
    "tags": [],
    "is_collapsed": false,
    "deepnote_cell_type": "text-cell-h3"
   }
  },
  {
   "cell_type": "code",
   "metadata": {
    "cell_id": "a0bee8f5-6d83-4856-8794-e47e00534740",
    "tags": [],
    "deepnote_to_be_reexecuted": false,
    "source_hash": "40d10f45",
    "execution_start": 1645047389080,
    "execution_millis": 14,
    "deepnote_cell_type": "code"
   },
   "source": "lista = ['spam!', 1, ['Brie', 'Roquefort', 'Pol le Veq'], [1, 2, 3]]",
   "execution_count": 8,
   "outputs": []
  },
  {
   "cell_type": "code",
   "metadata": {
    "cell_id": "b44e88cc-8ab4-47c8-b44b-36a18e10766e",
    "tags": [],
    "deepnote_to_be_reexecuted": false,
    "source_hash": "2e8e4034",
    "execution_start": 1645047955247,
    "execution_millis": 17,
    "deepnote_output_heights": [
     174.640625,
     174.640625
    ],
    "deepnote_cell_type": "code"
   },
   "source": "i = 0\nwhile i < len(lista):\n    print(len(lista[i]))\n    i = i+1",
   "execution_count": 18,
   "outputs": [
    {
     "name": "stdout",
     "text": "5\n",
     "output_type": "stream"
    },
    {
     "output_type": "error",
     "ename": "TypeError",
     "evalue": "object of type 'int' has no len()",
     "traceback": [
      "\u001b[0;31m---------------------------------------------------------------------------\u001b[0m",
      "\u001b[0;31mTypeError\u001b[0m                                 Traceback (most recent call last)",
      "\u001b[0;32m<ipython-input-18-fb48f5e203d6>\u001b[0m in \u001b[0;36m<module>\u001b[0;34m\u001b[0m\n\u001b[1;32m      1\u001b[0m \u001b[0mi\u001b[0m \u001b[0;34m=\u001b[0m \u001b[0;36m0\u001b[0m\u001b[0;34m\u001b[0m\u001b[0;34m\u001b[0m\u001b[0m\n\u001b[1;32m      2\u001b[0m \u001b[0;32mwhile\u001b[0m \u001b[0mi\u001b[0m \u001b[0;34m<\u001b[0m \u001b[0mlen\u001b[0m\u001b[0;34m(\u001b[0m\u001b[0mlista\u001b[0m\u001b[0;34m)\u001b[0m\u001b[0;34m:\u001b[0m\u001b[0;34m\u001b[0m\u001b[0;34m\u001b[0m\u001b[0m\n\u001b[0;32m----> 3\u001b[0;31m     \u001b[0mprint\u001b[0m\u001b[0;34m(\u001b[0m\u001b[0mlen\u001b[0m\u001b[0;34m(\u001b[0m\u001b[0mlista\u001b[0m\u001b[0;34m[\u001b[0m\u001b[0mi\u001b[0m\u001b[0;34m]\u001b[0m\u001b[0;34m)\u001b[0m\u001b[0;34m)\u001b[0m\u001b[0;34m\u001b[0m\u001b[0;34m\u001b[0m\u001b[0m\n\u001b[0m\u001b[1;32m      4\u001b[0m     \u001b[0mi\u001b[0m \u001b[0;34m=\u001b[0m \u001b[0mi\u001b[0m\u001b[0;34m+\u001b[0m\u001b[0;36m1\u001b[0m\u001b[0;34m\u001b[0m\u001b[0;34m\u001b[0m\u001b[0m\n",
      "\u001b[0;31mTypeError\u001b[0m: object of type 'int' has no len()"
     ]
    }
   ]
  },
  {
   "cell_type": "markdown",
   "source": "TypeError: object of type 'int' has no len()",
   "metadata": {
    "cell_id": "8b5e37b0-4c95-4080-bcc3-9a25b370cd05",
    "tags": [],
    "is_collapsed": false,
    "deepnote_cell_type": "text-cell-p"
   }
  },
  {
   "cell_type": "markdown",
   "source": "### Página 96",
   "metadata": {
    "cell_id": "e62382ee-b847-4fd3-a7cc-88402545590b",
    "tags": [],
    "is_collapsed": false,
    "deepnote_cell_type": "text-cell-h3"
   }
  },
  {
   "cell_type": "code",
   "metadata": {
    "cell_id": "1b512394-ae92-4691-832b-4575765b3f05",
    "tags": [],
    "deepnote_to_be_reexecuted": false,
    "source_hash": "e7801f26",
    "execution_start": 1645048310896,
    "execution_millis": 0,
    "deepnote_cell_type": "code"
   },
   "source": "# import string: se usa str\ncancion = \"La lluvia en Sevilla...\"",
   "execution_count": 25,
   "outputs": []
  },
  {
   "cell_type": "code",
   "metadata": {
    "cell_id": "08fd60d8-4ee2-4f41-a602-468a24f9848f",
    "tags": [],
    "deepnote_to_be_reexecuted": false,
    "source_hash": "99396ecc",
    "execution_start": 1645048178431,
    "execution_millis": 24,
    "deepnote_output_heights": [
     21.171875
    ],
    "deepnote_cell_type": "code"
   },
   "source": "cancion",
   "execution_count": 21,
   "outputs": [
    {
     "output_type": "execute_result",
     "execution_count": 21,
     "data": {
      "text/plain": "'La lluvia en Sevilla...'"
     },
     "metadata": {}
    }
   ]
  },
  {
   "cell_type": "code",
   "metadata": {
    "cell_id": "775fe918-3cb0-4a61-921f-f1ad562bf4ef",
    "tags": [],
    "deepnote_to_be_reexecuted": false,
    "source_hash": "e3cad578",
    "execution_start": 1645048423662,
    "execution_millis": 21,
    "deepnote_output_heights": [
     21.171875
    ],
    "deepnote_cell_type": "code"
   },
   "source": "str.split(cancion)",
   "execution_count": 27,
   "outputs": [
    {
     "output_type": "execute_result",
     "execution_count": 27,
     "data": {
      "text/plain": "['La', 'lluvia', 'en', 'Sevilla...']"
     },
     "metadata": {}
    }
   ]
  },
  {
   "cell_type": "code",
   "metadata": {
    "cell_id": "0381dbe1-68ba-45ff-8d27-20c04ff376d7",
    "tags": [],
    "deepnote_to_be_reexecuted": false,
    "source_hash": "4195a25d",
    "execution_start": 1645048454524,
    "execution_millis": 47,
    "deepnote_cell_type": "code"
   },
   "source": "str.join(str.split(cancion))",
   "execution_count": 28,
   "outputs": [
    {
     "output_type": "error",
     "ename": "TypeError",
     "evalue": "descriptor 'join' requires a 'str' object but received a 'list'",
     "traceback": [
      "\u001b[0;31m---------------------------------------------------------------------------\u001b[0m",
      "\u001b[0;31mTypeError\u001b[0m                                 Traceback (most recent call last)",
      "\u001b[0;32m<ipython-input-28-b90e4b8cfcdc>\u001b[0m in \u001b[0;36m<module>\u001b[0;34m\u001b[0m\n\u001b[0;32m----> 1\u001b[0;31m \u001b[0mstr\u001b[0m\u001b[0;34m.\u001b[0m\u001b[0mjoin\u001b[0m\u001b[0;34m(\u001b[0m\u001b[0mstr\u001b[0m\u001b[0;34m.\u001b[0m\u001b[0msplit\u001b[0m\u001b[0;34m(\u001b[0m\u001b[0mcancion\u001b[0m\u001b[0;34m)\u001b[0m\u001b[0;34m)\u001b[0m\u001b[0;34m\u001b[0m\u001b[0;34m\u001b[0m\u001b[0m\n\u001b[0m",
      "\u001b[0;31mTypeError\u001b[0m: descriptor 'join' requires a 'str' object but received a 'list'"
     ]
    }
   ]
  },
  {
   "cell_type": "markdown",
   "source": "## Capítulo 9: Tuplas",
   "metadata": {
    "cell_id": "1b995c89-03e7-4475-adf3-961a6baf561b",
    "tags": [],
    "is_collapsed": false,
    "deepnote_cell_type": "text-cell-h2"
   }
  },
  {
   "cell_type": "markdown",
   "source": "### Página 102",
   "metadata": {
    "cell_id": "57a513e2-bbba-4bdc-9d0a-7a44e06bac06",
    "tags": [],
    "is_collapsed": false,
    "deepnote_cell_type": "text-cell-h3"
   }
  },
  {
   "cell_type": "code",
   "metadata": {
    "cell_id": "4f701e3c-e973-4345-a0bb-8df78eff0af7",
    "tags": [],
    "deepnote_to_be_reexecuted": false,
    "source_hash": "dea14563",
    "execution_start": 1645048971071,
    "execution_millis": 4,
    "deepnote_cell_type": "code"
   },
   "source": "import random\nfor i in range(10):\n    x = random.random()\n    print(x)",
   "execution_count": 30,
   "outputs": [
    {
     "name": "stdout",
     "text": "0.041412479503346034\n0.9101093867742106\n0.9530559992785171\n0.3650353006800253\n0.1240432603546815\n0.9225259705769628\n0.9551217433314503\n0.7168721840359211\n0.016076719507465254\n0.24392349582933992\n",
     "output_type": "stream"
    }
   ]
  },
  {
   "cell_type": "code",
   "metadata": {
    "cell_id": "3542e306-2d2c-4623-b73b-faeab6568ef3",
    "tags": [],
    "deepnote_to_be_reexecuted": false,
    "source_hash": "34bca217",
    "execution_start": 1645049023875,
    "execution_millis": 6,
    "deepnote_cell_type": "code"
   },
   "source": "min = 2\nmax = 14\nfor i in range(min, max):\n    x = random.random()\n    print(x)",
   "execution_count": 31,
   "outputs": [
    {
     "name": "stdout",
     "text": "0.37225210284690147\n0.8437316089139394\n0.5392009208555552\n0.8110251249847208\n0.837424093319108\n0.10787058935231375\n0.8891127134230632\n0.04151762682795357\n0.12488485180214781\n0.7902649735612978\n0.8840286347744095\n0.13390171609170476\n",
     "output_type": "stream"
    }
   ]
  },
  {
   "cell_type": "code",
   "metadata": {
    "cell_id": "ab510ef4-ad43-439b-8469-f9e312237cc1",
    "tags": [],
    "deepnote_to_be_reexecuted": false,
    "source_hash": "e0432417",
    "execution_start": 1645049047741,
    "execution_millis": 3,
    "deepnote_cell_type": "code"
   },
   "source": "for i in range(min, max+1):\n    x = random.random()\n    print(x)",
   "execution_count": 32,
   "outputs": [
    {
     "name": "stdout",
     "text": "0.23459645163073728\n0.6864654776082658\n0.6131215936163045\n0.6039573514930461\n0.22135793755603983\n0.05358924439582069\n0.38663770788813345\n0.3794488290655468\n0.39528117381658856\n0.21812701147954627\n0.3612754953639513\n0.6104365050029543\n0.6807225113761902\n",
     "output_type": "stream"
    }
   ]
  },
  {
   "cell_type": "markdown",
   "source": "### Página 105",
   "metadata": {
    "cell_id": "39ec2467-7b9c-4ea3-a794-64c6860492ef",
    "tags": [],
    "is_collapsed": false,
    "deepnote_cell_type": "text-cell-h3"
   }
  },
  {
   "cell_type": "code",
   "metadata": {
    "cell_id": "89cefbec-545c-49cf-8900-77f69d9bfa15",
    "tags": [],
    "deepnote_to_be_reexecuted": false,
    "source_hash": "eab10d72",
    "execution_start": 1645049336840,
    "execution_millis": 1,
    "deepnote_cell_type": "code"
   },
   "source": "def enElBalde(lista, minimo, maximo):\n    cuenta = 0\n    for num in lista:\n        if minimo < num < maximo:\n            cuenta = cuenta +1\n    return cuenta",
   "execution_count": 35,
   "outputs": []
  },
  {
   "cell_type": "code",
   "metadata": {
    "cell_id": "9689911f-97a8-4a96-93c4-b31f911b4260",
    "tags": [],
    "deepnote_to_be_reexecuted": false,
    "source_hash": "929c9b74",
    "execution_start": 1645050366628,
    "execution_millis": 2,
    "deepnote_cell_type": "code"
   },
   "source": "lista = [0, 1, 2, 3, 4, 5]",
   "execution_count": 40,
   "outputs": []
  },
  {
   "cell_type": "code",
   "metadata": {
    "cell_id": "0b4c3bf7-732c-406f-a483-91da457f8c89",
    "tags": [],
    "deepnote_to_be_reexecuted": false,
    "source_hash": "cf694162",
    "execution_start": 1645050369342,
    "execution_millis": 7,
    "deepnote_output_heights": [
     308.921875
    ],
    "deepnote_cell_type": "code"
   },
   "source": "numBaldes = 8\nbaldes = [0] * numBaldes\nanchuraBalde = 1.0 / numBaldes\nfor i in range(numBaldes):\n    minimo = i * anchuraBalde\n    maximo = minimo + anchuraBalde\n    baldes[i] = enElBalde(lista, minimo, maximo)\nprint(baldes)",
   "execution_count": 41,
   "outputs": [
    {
     "name": "stdout",
     "text": "[0, 0, 0, 0, 0, 0, 0, 0]\n",
     "output_type": "stream"
    }
   ]
  },
  {
   "cell_type": "markdown",
   "source": "Con la lista de números random no funciona porque son flotantes, con la lista creada no entrega el mismo resultado del libro",
   "metadata": {
    "cell_id": "41dce478-802c-4022-ab5e-d48897d48815",
    "tags": [],
    "is_collapsed": false,
    "deepnote_cell_type": "text-cell-p"
   }
  },
  {
   "cell_type": "markdown",
   "source": "### Página 116",
   "metadata": {
    "cell_id": "6f33e2b4-169c-4a3e-8d67-69bacb4c9202",
    "tags": [],
    "is_collapsed": false,
    "deepnote_cell_type": "text-cell-h3"
   }
  },
  {
   "cell_type": "code",
   "metadata": {
    "cell_id": "6fcc73f1-8545-46c0-aa32-a6e07ad17839",
    "tags": [],
    "deepnote_to_be_reexecuted": false,
    "source_hash": "4773cb40",
    "execution_start": 1645050684456,
    "execution_millis": 5,
    "deepnote_cell_type": "code"
   },
   "source": "def factorial_long_int(n):\n    return int(1) if (n==1 or n==0) else int(n * factorial(n - 1))",
   "execution_count": 45,
   "outputs": []
  },
  {
   "cell_type": "code",
   "metadata": {
    "cell_id": "43803e32-f747-45cc-b2e3-c8f3a25e08fd",
    "tags": [],
    "deepnote_to_be_reexecuted": false,
    "source_hash": "289bfa85",
    "execution_start": 1645050687266,
    "execution_millis": 9,
    "deepnote_output_heights": [
     21.171875
    ],
    "deepnote_cell_type": "code"
   },
   "source": "factorial_long_int(5)",
   "execution_count": 46,
   "outputs": [
    {
     "output_type": "execute_result",
     "execution_count": 46,
     "data": {
      "text/plain": "120"
     },
     "metadata": {}
    }
   ]
  },
  {
   "cell_type": "markdown",
   "source": "<a style='text-decoration:none;line-height:16px;display:flex;color:#5B5B62;padding:10px;justify-content:end;' href='https://deepnote.com?utm_source=created-in-deepnote-cell&projectId=304dfc5a-646c-4a84-8019-47507fa21bcc' target=\"_blank\">\n<img alt='Created in deepnote.com' style='display:inline;max-height:16px;margin:0px;margin-right:7.5px;' src='data:image/svg+xml;base64,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' > </img>\nCreated in <span style='font-weight:600;margin-left:4px;'>Deepnote</span></a>",
   "metadata": {
    "tags": [],
    "created_in_deepnote_cell": true,
    "deepnote_cell_type": "markdown"
   }
  }
 ],
 "nbformat": 4,
 "nbformat_minor": 2,
 "metadata": {
  "orig_nbformat": 2,
  "deepnote": {
   "is_reactive": false
  },
  "deepnote_notebook_id": "5f449399-a40a-40a1-8f94-175736910fb2",
  "deepnote_execution_queue": []
 }
}